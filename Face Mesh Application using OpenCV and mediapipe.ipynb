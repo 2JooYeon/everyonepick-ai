{
 "cells": [
  {
   "cell_type": "code",
   "execution_count": 20,
   "id": "5c3f8c7a",
   "metadata": {},
   "outputs": [],
   "source": [
    "import cv2\n",
    "import numpy as np\n",
    "import mediapipe as mp\n",
    "import requests  \n",
    "from PIL import Image\n",
    "import matplotlib.pyplot as plt"
   ]
  },
  {
   "cell_type": "code",
   "execution_count": 28,
   "id": "df0364b0",
   "metadata": {},
   "outputs": [],
   "source": [
    "# source 이미지, destination 이미지 불러오기\n",
    "image1 = cv2.imread('img_data/source.png')\n",
    "image2 = cv2.imread('img_data/destination.png')\n",
    "image1 = image1[:,:, ::-1]\n",
    "image2 = image2[:,:, ::-1]"
   ]
  },
  {
   "cell_type": "code",
   "execution_count": 22,
   "id": "9b1285c9",
   "metadata": {},
   "outputs": [],
   "source": [
    "# 얼굴 특징점 검출기 정의 \n",
    "mp_face_mesh = mp.solutions.face_mesh\n",
    "mp_drawing = mp.solutions.drawing_utils\n",
    "mp_drawing_styles = mp.solutions.drawing_styles"
   ]
  },
  {
   "cell_type": "code",
   "execution_count": 41,
   "id": "d90b8f71",
   "metadata": {},
   "outputs": [],
   "source": [
    "# 이미지를 array로 변환 후, grayscale (1차원) 변환\n",
    "img = np.array(image1)\n",
    "img_gray = cv2.cvtColor(img, cv2.COLOR_BGR2GRAY)\n",
    "mask = np.zeros_like(img_gray)\n",
    "img2 = np.array(image2)\n",
    "img2_gray = cv2.cvtColor(img2, cv2.COLOR_BGR2GRAY)"
   ]
  },
  {
   "cell_type": "code",
   "execution_count": 42,
   "id": "541b34b2",
   "metadata": {},
   "outputs": [],
   "source": [
    "# index array에서 0번째 값 반환\n",
    "def extract_index_nparray(nparray):\n",
    "    index = None\n",
    "    for num in nparray[0]:\n",
    "        index = num\n",
    "        break\n",
    "    return index"
   ]
  },
  {
   "cell_type": "code",
   "execution_count": 47,
   "id": "ccac7e7a",
   "metadata": {},
   "outputs": [],
   "source": [
    "# source 얼굴 특징점 검출\n",
    "with mp_face_mesh.FaceMesh(\n",
    "    static_image_mode=True,\n",
    "    max_num_faces=1,\n",
    "    refine_landmarks=True,\n",
    "    min_detection_confidence=0.5) as face_mesh:\n",
    "\n",
    "    # Convert the BGR image to RGB before processing.\n",
    "    results = face_mesh.process(cv2.cvtColor(image1, cv2.COLOR_BGR2RGB))\n",
    "    # Print and draw face mesh landmarks on the image.\n",
    "    annotated_image = image1.copy()\n",
    "    for face_landmarks in results.multi_face_landmarks:\n",
    "        landmarks_points = []\n",
    "        for n in range(0, 468):\n",
    "            x = face_landmarks.landmark[n].x\n",
    "            y = face_landmarks.landmark[n].y\n",
    "            landmarks_points.append((x,y))\n",
    "        \n",
    "        points = np.array(landmarks_points, np.int32)\n",
    "        \n",
    "        # 얼굴 특징점 경계선 추출\n",
    "        convexhull = cv2.convexHull(points)\n",
    "        cv2.fillConvexPoly(mask, convexhull, 255)\n",
    "        \n",
    "        \n",
    "        # 얼굴 특징점 경계선을 따라 얼굴 이미지 추출\n",
    "        face_image_1 = cv2.bitwise_and(img, img, mask=mask)\n",
    "\n",
    "        # source 얼굴 들로네 삼각망 구축\n",
    "        rect = cv2.boundingRect(convexhull)\n",
    "        subdiv = cv2.Subdiv2D(rect)\n",
    "        subdiv.insert(landmarks_points)\n",
    "        triangles = subdiv.getTriangleList()\n",
    "        triangles = np.array(triangles, dtype=np.int32)\n",
    "        \n",
    "        # 들로네 삼각망의 triangles 인덱스 구하기 \n",
    "        indexes_triangles = []\n",
    "        for t in triangles:\n",
    "            pt1 = (t[0], t[1])\n",
    "            pt2 = (t[2], t[3])\n",
    "            pt3 = (t[4], t[5])\n",
    "    \n",
    "    \n",
    "            index_pt1 = np.where((points == pt1).all(axis=1))\n",
    "            index_pt1 = extract_index_nparray(index_pt1)\n",
    "    \n",
    "            index_pt2 = np.where((points == pt2).all(axis=1))\n",
    "            index_pt2 = extract_index_nparray(index_pt2)\n",
    "    \n",
    "            index_pt3 = np.where((points == pt3).all(axis=1))\n",
    "            index_pt3 = extract_index_nparray(index_pt3)\n",
    "    \n",
    "            if index_pt1 is not None and index_pt2 is not None and index_pt3 is not None:\n",
    "                triangle = [index_pt1, index_pt2, index_pt3]\n",
    "                indexes_triangles.append(triangle)"
   ]
  }
 ],
 "metadata": {
  "kernelspec": {
   "display_name": "Python 3 (ipykernel)",
   "language": "python",
   "name": "python3"
  },
  "language_info": {
   "codemirror_mode": {
    "name": "ipython",
    "version": 3
   },
   "file_extension": ".py",
   "mimetype": "text/x-python",
   "name": "python",
   "nbconvert_exporter": "python",
   "pygments_lexer": "ipython3",
   "version": "3.7.13"
  }
 },
 "nbformat": 4,
 "nbformat_minor": 5
}
