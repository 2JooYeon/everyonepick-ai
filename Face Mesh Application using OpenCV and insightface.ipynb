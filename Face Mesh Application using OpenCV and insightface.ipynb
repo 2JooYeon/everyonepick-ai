{
 "cells": [
  {
   "cell_type": "code",
   "execution_count": 12,
   "id": "1f972aca",
   "metadata": {},
   "outputs": [],
   "source": [
    "import cv2\n",
    "import numpy as np\n",
    "import insightface\n",
    "from insightface.app import FaceAnalysis\n",
    "from insightface.data import get_image as ins_get_image\n",
    "import requests  \n",
    "from PIL import Image\n",
    "import matplotlib.pyplot as plt"
   ]
  },
  {
   "cell_type": "code",
   "execution_count": 34,
   "id": "dc02b86d",
   "metadata": {},
   "outputs": [],
   "source": [
    "# source 이미지 가져오기\n",
    "image1 = ins_get_image('image1')\n",
    "# plt.imshow(image1)"
   ]
  },
  {
   "cell_type": "code",
   "execution_count": 35,
   "id": "a2716586",
   "metadata": {},
   "outputs": [],
   "source": [
    "# destination 이미지 가져오기\n",
    "image2 = ins_get_image('image2')\n",
    "# plt.imshow(image2)"
   ]
  },
  {
   "cell_type": "code",
   "execution_count": 36,
   "id": "a779ece2",
   "metadata": {},
   "outputs": [],
   "source": [
    "# 이미지를 array로 변환 후, grayscale (1차원) 변환\n",
    "img = np.array(image1)\n",
    "img_gray = cv2.cvtColor(img, cv2.COLOR_BGR2GRAY)\n",
    "# plt.imshow(img_gray)\n",
    "mask = np.zeros_like(img_gray)\n",
    "img2 = np.array(image2)\n",
    "img2_gray = cv2.cvtColor(img2, cv2.COLOR_BGR2GRAY)\n",
    "# plt.imshow(img2_gray)"
   ]
  },
  {
   "cell_type": "code",
   "execution_count": 37,
   "id": "c0e74a05",
   "metadata": {},
   "outputs": [
    {
     "name": "stdout",
     "output_type": "stream",
     "text": [
      "Applied providers: ['CPUExecutionProvider'], with options: {'CPUExecutionProvider': {}}\n",
      "model ignore: /Users/jooyeon/.insightface/models/buffalo_l/1k3d68.onnx landmark_3d_68\n",
      "Applied providers: ['CPUExecutionProvider'], with options: {'CPUExecutionProvider': {}}\n",
      "find model: /Users/jooyeon/.insightface/models/buffalo_l/2d106det.onnx landmark_2d_106 ['None', 3, 192, 192] 0.0 1.0\n",
      "Applied providers: ['CPUExecutionProvider'], with options: {'CPUExecutionProvider': {}}\n",
      "find model: /Users/jooyeon/.insightface/models/buffalo_l/det_10g.onnx detection [1, 3, '?', '?'] 127.5 128.0\n",
      "Applied providers: ['CPUExecutionProvider'], with options: {'CPUExecutionProvider': {}}\n",
      "model ignore: /Users/jooyeon/.insightface/models/buffalo_l/genderage.onnx genderage\n",
      "Applied providers: ['CPUExecutionProvider'], with options: {'CPUExecutionProvider': {}}\n",
      "model ignore: /Users/jooyeon/.insightface/models/buffalo_l/w600k_r50.onnx recognition\n",
      "set det-size: (640, 640)\n"
     ]
    }
   ],
   "source": [
    "# 얼굴 검출기 및 특징점 검출기 정의\n",
    "app = FaceAnalysis(allowed_modules=['detection', 'landmark_2d_106'])\n",
    "app.prepare(ctx_id=0, det_size=(640, 640))"
   ]
  }
 ],
 "metadata": {
  "kernelspec": {
   "display_name": "Python 3 (ipykernel)",
   "language": "python",
   "name": "python3"
  },
  "language_info": {
   "codemirror_mode": {
    "name": "ipython",
    "version": 3
   },
   "file_extension": ".py",
   "mimetype": "text/x-python",
   "name": "python",
   "nbconvert_exporter": "python",
   "pygments_lexer": "ipython3",
   "version": "3.7.13"
  }
 },
 "nbformat": 4,
 "nbformat_minor": 5
}
