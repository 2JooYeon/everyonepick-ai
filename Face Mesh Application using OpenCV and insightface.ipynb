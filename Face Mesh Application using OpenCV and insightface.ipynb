{
 "cells": [
  {
   "cell_type": "code",
   "execution_count": 90,
   "id": "1f972aca",
   "metadata": {},
   "outputs": [],
   "source": [
    "import cv2\n",
    "import numpy as np\n",
    "import insightface\n",
    "from insightface.app import FaceAnalysis\n",
    "from insightface.data import get_image as ins_get_image\n",
    "import requests  \n",
    "from PIL import Image\n",
    "import matplotlib.pyplot as plt"
   ]
  },
  {
   "cell_type": "code",
   "execution_count": 91,
   "id": "dc02b86d",
   "metadata": {},
   "outputs": [],
   "source": [
    "# source 이미지 가져오기\n",
    "image1 = ins_get_image('source')\n",
    "# plt.imshow(image1)"
   ]
  },
  {
   "cell_type": "code",
   "execution_count": 92,
   "id": "a2716586",
   "metadata": {},
   "outputs": [],
   "source": [
    "# destination 이미지 가져오기\n",
    "image2 = ins_get_image('destination')\n",
    "# plt.imshow(image2)"
   ]
  },
  {
   "cell_type": "code",
   "execution_count": 93,
   "id": "a779ece2",
   "metadata": {},
   "outputs": [],
   "source": [
    "# 이미지를 array로 변환 후, grayscale (1차원) 변환\n",
    "img = np.array(image1)\n",
    "img_gray = cv2.cvtColor(img, cv2.COLOR_BGR2GRAY)\n",
    "# plt.imshow(img_gray)\n",
    "mask = np.zeros_like(img_gray)\n",
    "img2 = np.array(image2)\n",
    "img2_gray = cv2.cvtColor(img2, cv2.COLOR_BGR2GRAY)\n",
    "# plt.imshow(img2_gray)"
   ]
  },
  {
   "cell_type": "code",
   "execution_count": 94,
   "id": "c0e74a05",
   "metadata": {},
   "outputs": [
    {
     "name": "stdout",
     "output_type": "stream",
     "text": [
      "Applied providers: ['CPUExecutionProvider'], with options: {'CPUExecutionProvider': {}}\n",
      "model ignore: /Users/jooyeon/.insightface/models/buffalo_l/1k3d68.onnx landmark_3d_68\n",
      "Applied providers: ['CPUExecutionProvider'], with options: {'CPUExecutionProvider': {}}\n",
      "find model: /Users/jooyeon/.insightface/models/buffalo_l/2d106det.onnx landmark_2d_106 ['None', 3, 192, 192] 0.0 1.0\n",
      "Applied providers: ['CPUExecutionProvider'], with options: {'CPUExecutionProvider': {}}\n",
      "find model: /Users/jooyeon/.insightface/models/buffalo_l/det_10g.onnx detection [1, 3, '?', '?'] 127.5 128.0\n",
      "Applied providers: ['CPUExecutionProvider'], with options: {'CPUExecutionProvider': {}}\n",
      "model ignore: /Users/jooyeon/.insightface/models/buffalo_l/genderage.onnx genderage\n",
      "Applied providers: ['CPUExecutionProvider'], with options: {'CPUExecutionProvider': {}}\n",
      "model ignore: /Users/jooyeon/.insightface/models/buffalo_l/w600k_r50.onnx recognition\n",
      "set det-size: (640, 640)\n"
     ]
    }
   ],
   "source": [
    "# 얼굴 검출기 및 특징점 검출기 정의\n",
    "app = FaceAnalysis(allowed_modules=['detection', 'landmark_2d_106'])\n",
    "app.prepare(ctx_id=0, det_size=(640, 640))"
   ]
  },
  {
   "cell_type": "code",
   "execution_count": 95,
   "id": "da22038d",
   "metadata": {},
   "outputs": [],
   "source": [
    "height, width, channels = img2.shape\n",
    "img2_new_face = np.zeros((height, width, channels), np.uint8)"
   ]
  },
  {
   "cell_type": "code",
   "execution_count": 96,
   "id": "e98abc6b",
   "metadata": {},
   "outputs": [],
   "source": [
    "# index array에서 0번째 값 반환\n",
    "def extract_index_nparray(nparray):\n",
    "    index = None\n",
    "    for num in nparray[0]:\n",
    "        index = num\n",
    "        break\n",
    "    return index"
   ]
  },
  {
   "cell_type": "code",
   "execution_count": 99,
   "id": "17bcc722",
   "metadata": {},
   "outputs": [],
   "source": [
    "insight_img = ins_get_image('source')\n",
    "faces = app.get(img)\n",
    "tim = insight_img.copy()\n",
    "\n",
    "for face in faces:\n",
    "    landmarks = face.landmark_2d_106\n",
    "#     landmarks = np.round(landmarks).astype(np.int32)\n",
    "    landmarks_points=[]\n",
    "    for n in range(landmarks.shape[0]):\n",
    "        p = tuple(landmarks[n])\n",
    "        x = int(p[0])\n",
    "        y = int(p[1])\n",
    "        landmarks_points.append((x,y))\n",
    "#         color = np.random.randint(0, 255, size=(3, ))\n",
    "#         color = ( int (color [ 0 ]), int (color [ 1 ]), int (color [ 2 ])) \n",
    "#         cv2.circle(tim, points, 1, color, 1, cv2.LINE_AA)\n",
    "\n",
    "    points = np.array(landmarks_points, np.int32)\n",
    "#     print(points)\n",
    "    # 얼굴 특징점 경계선 추출\n",
    "    convexhull = cv2.convexHull(points)\n",
    "    cv2.fillConvexPoly(mask, convexhull, 255)\n",
    "    \n",
    "    # 얼굴 특징점 경계선을 따라 얼굴 이미지 추출\n",
    "    face_image_1 = cv2.bitwise_and(img, img, mask=mask)\n",
    "    \n",
    "    # source 얼굴 들로네 삼각망 구축\n",
    "    rect = cv2.boundingRect(convexhull)\n",
    "#     print(rect)\n",
    "    subdiv = cv2.Subdiv2D(rect)\n",
    "    subdiv.insert(landmarks_points)\n",
    "    triangles = subdiv.getTriangleList()\n",
    "    triangles = np.array(triangles, dtype=np.int32)\n",
    "\n",
    "    # 들로네 삼각망의 triangles 인덱스 구하기 \n",
    "    indexes_triangles = []\n",
    "    for t in triangles:\n",
    "        pt1 = (t[0], t[1])\n",
    "        pt2 = (t[2], t[3])\n",
    "        pt3 = (t[4], t[5])\n",
    "\n",
    "\n",
    "        index_pt1 = np.where((points == pt1).all(axis=1))\n",
    "        index_pt1 = extract_index_nparray(index_pt1)\n",
    "\n",
    "        index_pt2 = np.where((points == pt2).all(axis=1))\n",
    "        index_pt2 = extract_index_nparray(index_pt2)\n",
    "\n",
    "        index_pt3 = np.where((points == pt3).all(axis=1))\n",
    "        index_pt3 = extract_index_nparray(index_pt3)\n",
    "\n",
    "        if index_pt1 is not None and index_pt2 is not None and index_pt3 is not None:\n",
    "            triangle = [index_pt1, index_pt2, index_pt3]\n",
    "            indexes_triangles.append(triangle)"
   ]
  },
  {
   "cell_type": "code",
   "execution_count": null,
   "id": "2f821a4f",
   "metadata": {},
   "outputs": [],
   "source": []
  }
 ],
 "metadata": {
  "kernelspec": {
   "display_name": "Python 3 (ipykernel)",
   "language": "python",
   "name": "python3"
  },
  "language_info": {
   "codemirror_mode": {
    "name": "ipython",
    "version": 3
   },
   "file_extension": ".py",
   "mimetype": "text/x-python",
   "name": "python",
   "nbconvert_exporter": "python",
   "pygments_lexer": "ipython3",
   "version": "3.7.13"
  }
 },
 "nbformat": 4,
 "nbformat_minor": 5
}
